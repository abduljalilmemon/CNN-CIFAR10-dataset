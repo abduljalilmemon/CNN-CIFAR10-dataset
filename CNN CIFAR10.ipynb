{
  "nbformat": 4,
  "nbformat_minor": 0,
  "metadata": {
    "colab": {
      "name": "i170160_CNN_CIFAR10.ipynb",
      "provenance": [],
      "collapsed_sections": []
    },
    "kernelspec": {
      "name": "python3",
      "display_name": "Python 3"
    },
    "language_info": {
      "name": "python"
    },
    "widgets": {
      "application/vnd.jupyter.widget-state+json": {
        "034119e4ef5a46f191cf263a2fc214b5": {
          "model_module": "@jupyter-widgets/controls",
          "model_name": "HBoxModel",
          "state": {
            "_view_name": "HBoxView",
            "_dom_classes": [],
            "_model_name": "HBoxModel",
            "_view_module": "@jupyter-widgets/controls",
            "_model_module_version": "1.5.0",
            "_view_count": null,
            "_view_module_version": "1.5.0",
            "box_style": "",
            "layout": "IPY_MODEL_828f106668094d329ee2462e47b1601e",
            "_model_module": "@jupyter-widgets/controls",
            "children": [
              "IPY_MODEL_99dfc33ad0e04b6d8e2771045332d26e",
              "IPY_MODEL_2a4738d11c0e428e957bd5cc9167217e"
            ]
          }
        },
        "828f106668094d329ee2462e47b1601e": {
          "model_module": "@jupyter-widgets/base",
          "model_name": "LayoutModel",
          "state": {
            "_view_name": "LayoutView",
            "grid_template_rows": null,
            "right": null,
            "justify_content": null,
            "_view_module": "@jupyter-widgets/base",
            "overflow": null,
            "_model_module_version": "1.2.0",
            "_view_count": null,
            "flex_flow": null,
            "width": null,
            "min_width": null,
            "border": null,
            "align_items": null,
            "bottom": null,
            "_model_module": "@jupyter-widgets/base",
            "top": null,
            "grid_column": null,
            "overflow_y": null,
            "overflow_x": null,
            "grid_auto_flow": null,
            "grid_area": null,
            "grid_template_columns": null,
            "flex": null,
            "_model_name": "LayoutModel",
            "justify_items": null,
            "grid_row": null,
            "max_height": null,
            "align_content": null,
            "visibility": null,
            "align_self": null,
            "height": null,
            "min_height": null,
            "padding": null,
            "grid_auto_rows": null,
            "grid_gap": null,
            "max_width": null,
            "order": null,
            "_view_module_version": "1.2.0",
            "grid_template_areas": null,
            "object_position": null,
            "object_fit": null,
            "grid_auto_columns": null,
            "margin": null,
            "display": null,
            "left": null
          }
        },
        "99dfc33ad0e04b6d8e2771045332d26e": {
          "model_module": "@jupyter-widgets/controls",
          "model_name": "FloatProgressModel",
          "state": {
            "_view_name": "ProgressView",
            "style": "IPY_MODEL_cfd2a9fce6984ea5851fd4a112c25caf",
            "_dom_classes": [],
            "description": "Epochs:  40%",
            "_model_name": "FloatProgressModel",
            "bar_style": "danger",
            "max": 20,
            "_view_module": "@jupyter-widgets/controls",
            "_model_module_version": "1.5.0",
            "value": 8,
            "_view_count": null,
            "_view_module_version": "1.5.0",
            "orientation": "horizontal",
            "min": 0,
            "description_tooltip": null,
            "_model_module": "@jupyter-widgets/controls",
            "layout": "IPY_MODEL_14dc5bf6ee724e7bab0dc6a85e043d5b"
          }
        },
        "2a4738d11c0e428e957bd5cc9167217e": {
          "model_module": "@jupyter-widgets/controls",
          "model_name": "HTMLModel",
          "state": {
            "_view_name": "HTMLView",
            "style": "IPY_MODEL_b05632e678244bdbb87d9a43a8b69342",
            "_dom_classes": [],
            "description": "",
            "_model_name": "HTMLModel",
            "placeholder": "​",
            "_view_module": "@jupyter-widgets/controls",
            "_model_module_version": "1.5.0",
            "value": " 8/20 [05:33&lt;07:23, 36.96s/it]",
            "_view_count": null,
            "_view_module_version": "1.5.0",
            "description_tooltip": null,
            "_model_module": "@jupyter-widgets/controls",
            "layout": "IPY_MODEL_2ed571afd723479a8f7296ee2cfd1b20"
          }
        },
        "cfd2a9fce6984ea5851fd4a112c25caf": {
          "model_module": "@jupyter-widgets/controls",
          "model_name": "ProgressStyleModel",
          "state": {
            "_view_name": "StyleView",
            "_model_name": "ProgressStyleModel",
            "description_width": "initial",
            "_view_module": "@jupyter-widgets/base",
            "_model_module_version": "1.5.0",
            "_view_count": null,
            "_view_module_version": "1.2.0",
            "bar_color": null,
            "_model_module": "@jupyter-widgets/controls"
          }
        },
        "14dc5bf6ee724e7bab0dc6a85e043d5b": {
          "model_module": "@jupyter-widgets/base",
          "model_name": "LayoutModel",
          "state": {
            "_view_name": "LayoutView",
            "grid_template_rows": null,
            "right": null,
            "justify_content": null,
            "_view_module": "@jupyter-widgets/base",
            "overflow": null,
            "_model_module_version": "1.2.0",
            "_view_count": null,
            "flex_flow": null,
            "width": null,
            "min_width": null,
            "border": null,
            "align_items": null,
            "bottom": null,
            "_model_module": "@jupyter-widgets/base",
            "top": null,
            "grid_column": null,
            "overflow_y": null,
            "overflow_x": null,
            "grid_auto_flow": null,
            "grid_area": null,
            "grid_template_columns": null,
            "flex": null,
            "_model_name": "LayoutModel",
            "justify_items": null,
            "grid_row": null,
            "max_height": null,
            "align_content": null,
            "visibility": null,
            "align_self": null,
            "height": null,
            "min_height": null,
            "padding": null,
            "grid_auto_rows": null,
            "grid_gap": null,
            "max_width": null,
            "order": null,
            "_view_module_version": "1.2.0",
            "grid_template_areas": null,
            "object_position": null,
            "object_fit": null,
            "grid_auto_columns": null,
            "margin": null,
            "display": null,
            "left": null
          }
        },
        "b05632e678244bdbb87d9a43a8b69342": {
          "model_module": "@jupyter-widgets/controls",
          "model_name": "DescriptionStyleModel",
          "state": {
            "_view_name": "StyleView",
            "_model_name": "DescriptionStyleModel",
            "description_width": "",
            "_view_module": "@jupyter-widgets/base",
            "_model_module_version": "1.5.0",
            "_view_count": null,
            "_view_module_version": "1.2.0",
            "_model_module": "@jupyter-widgets/controls"
          }
        },
        "2ed571afd723479a8f7296ee2cfd1b20": {
          "model_module": "@jupyter-widgets/base",
          "model_name": "LayoutModel",
          "state": {
            "_view_name": "LayoutView",
            "grid_template_rows": null,
            "right": null,
            "justify_content": null,
            "_view_module": "@jupyter-widgets/base",
            "overflow": null,
            "_model_module_version": "1.2.0",
            "_view_count": null,
            "flex_flow": null,
            "width": null,
            "min_width": null,
            "border": null,
            "align_items": null,
            "bottom": null,
            "_model_module": "@jupyter-widgets/base",
            "top": null,
            "grid_column": null,
            "overflow_y": null,
            "overflow_x": null,
            "grid_auto_flow": null,
            "grid_area": null,
            "grid_template_columns": null,
            "flex": null,
            "_model_name": "LayoutModel",
            "justify_items": null,
            "grid_row": null,
            "max_height": null,
            "align_content": null,
            "visibility": null,
            "align_self": null,
            "height": null,
            "min_height": null,
            "padding": null,
            "grid_auto_rows": null,
            "grid_gap": null,
            "max_width": null,
            "order": null,
            "_view_module_version": "1.2.0",
            "grid_template_areas": null,
            "object_position": null,
            "object_fit": null,
            "grid_auto_columns": null,
            "margin": null,
            "display": null,
            "left": null
          }
        }
      }
    },
    "accelerator": "GPU"
  },
  "cells": [
    {
      "cell_type": "code",
      "metadata": {
        "id": "OPsTfc9Z1hHK"
      },
      "source": [
        "import torch\n",
        "import torchvision\n",
        "import torch.nn as nn\n",
        "import numpy as np\n",
        "import torch.optim as optim\n",
        "from torchvision import transforms\n",
        "from tqdm.notebook import tqdm"
      ],
      "execution_count": null,
      "outputs": []
    },
    {
      "cell_type": "code",
      "metadata": {
        "colab": {
          "base_uri": "https://localhost:8080/"
        },
        "id": "p3h77-S9RYlu",
        "outputId": "9ce9574b-abcf-42ea-f365-5465306fe4a2"
      },
      "source": [
        "#mean, std are passed as 0.5, 0.5 and image = (image - mean) / std\n",
        "# Data transforms (normalization & data augmentation)\n",
        "transform = transforms.Compose([transforms.RandomCrop(32, padding=2, padding_mode='reflect'), \n",
        "                                transforms.RandomHorizontalFlip(), \n",
        "                                transforms.ToTensor(),\n",
        "                                transforms.Normalize((0.4914, 0.4822, 0.4465), (0.2023, 0.1994, 0.2010))])\n",
        "train_set = torchvision.datasets.CIFAR10(\"./data\", download=True, transform = transform)\n",
        "test_set = torchvision.datasets.CIFAR10(\"./data\", download=True, train=False, transform=transform)\n",
        "train_set, val_set = torch.utils.data.random_split(train_set, [int(len(train_set)*0.8), int(len(train_set)*0.2)])"
      ],
      "execution_count": null,
      "outputs": [
        {
          "output_type": "stream",
          "text": [
            "Files already downloaded and verified\n",
            "Files already downloaded and verified\n"
          ],
          "name": "stdout"
        }
      ]
    },
    {
      "cell_type": "code",
      "metadata": {
        "colab": {
          "base_uri": "https://localhost:8080/"
        },
        "id": "8YEkJZHZSm7T",
        "outputId": "59ad126a-d8e2-4600-c552-92a76bc8222a"
      },
      "source": [
        "print(len(train_set), len(test_set), len(val_set))"
      ],
      "execution_count": null,
      "outputs": [
        {
          "output_type": "stream",
          "text": [
            "40000 10000 10000\n"
          ],
          "name": "stdout"
        }
      ]
    },
    {
      "cell_type": "code",
      "metadata": {
        "id": "oFMpmvaZT9Je"
      },
      "source": [
        "train_load = torch.utils.data.DataLoader(train_set, batch_size=64, shuffle=True)\n",
        "test_load = torch.utils.data.DataLoader(test_set, batch_size=64, shuffle=True)\n",
        "val_load = torch.utils.data.DataLoader(val_set, batch_size=64, shuffle=True)"
      ],
      "execution_count": null,
      "outputs": []
    },
    {
      "cell_type": "code",
      "metadata": {
        "id": "8QRPbl2HVVnq"
      },
      "source": [
        "class Cnn(nn.Module): #class will inherit the nn.Module\n",
        "  def __init__(self):\n",
        "    super(Cnn, self).__init__()\n",
        "    self.convolution = nn.Sequential(\n",
        "      nn.Conv2d(3, 32, kernel_size=3, padding=1),\n",
        "      nn.BatchNorm2d(32),\n",
        "      nn.ReLU(inplace=True),\n",
        "\n",
        "      nn.Conv2d(32, 64, kernel_size=3, padding=1),\n",
        "      nn.ReLU(inplace=True),\n",
        "      nn.MaxPool2d(kernel_size=2, stride=2),\n",
        "\n",
        "      nn.Conv2d(64, 128, kernel_size=3, padding=1),\n",
        "      nn.BatchNorm2d(128),\n",
        "      nn.ReLU(inplace=True),\n",
        "      \n",
        "      nn.Conv2d(128, 128, kernel_size=3, padding=1),\n",
        "      nn.ReLU(inplace=True),\n",
        "      nn.MaxPool2d(kernel_size=2, stride=2),\n",
        "      nn.Dropout2d(p=0.05),\n",
        "\n",
        "      nn.Conv2d(128, 256, kernel_size=3, padding=1),\n",
        "      nn.BatchNorm2d(256),\n",
        "      nn.ReLU(inplace=True),\n",
        "\n",
        "      nn.Conv2d(256, 256, kernel_size=3, padding=1),\n",
        "      nn.ReLU(inplace=True),\n",
        "      nn.MaxPool2d(kernel_size=2, stride=2),\n",
        "      \n",
        "      #nn.Conv2d(3, 64, kernel_size=3, stride=1, padding=1), \n",
        "      #nn.ReLU(),\n",
        "      #nn.MaxPool2d(2, stride=2),\n",
        "      #nn.Conv2d(64, 128, kernel_size=3, stride=1, padding=1),\n",
        "      #nn.ReLU(),\n",
        "      #nn.MaxPool2d(2, stride=2),\n",
        "      #nn.Conv2d(128, 256, kernel_size=3, stride=1, padding=1),\n",
        "      #nn.BatchNorm2d(256),\n",
        "      #nn.ReLU(),\n",
        "      #nn.Conv2d(256, 512, kernel_size=3, stride=1, padding=1),\n",
        "      #nn.ReLU(),\n",
        "      #nn.Conv2d(512, 256, kernel_size=3, stride=1, padding=1),\n",
        "      #nn.ReLU(),\n",
        "      #nn.MaxPool2d(2, stride=2),\n",
        "    )\n",
        "    self.linear = nn.Sequential(\n",
        "      torch.nn.Linear(4096, 256),  \n",
        "      nn.ReLU(),\n",
        "      torch.nn.Linear(256, 1024),        \n",
        "      nn.ReLU(),\n",
        "      torch.nn.Linear(1024, 10),\n",
        "      nn.BatchNorm1d(10),\n",
        "      nn.LogSoftmax(dim = 1) #dimension\n",
        "    )\n",
        "  def forward(self, x):\n",
        "    output = self.convolution(x)\n",
        "    output = output.view(output.size(0), -1) # 256, 4, 4 to 4096 for \n",
        "    output = self.linear(output)\n",
        "    return output"
      ],
      "execution_count": null,
      "outputs": []
    },
    {
      "cell_type": "code",
      "metadata": {
        "id": "M8ELdPEgVedB"
      },
      "source": [
        "Model = Cnn()\n",
        "optimizer = optim.Adam(Model.parameters(), lr=0.0005)\n",
        "criterion = nn.CrossEntropyLoss()"
      ],
      "execution_count": null,
      "outputs": []
    },
    {
      "cell_type": "code",
      "metadata": {
        "id": "e7j6c96SInSu",
        "colab": {
          "base_uri": "https://localhost:8080/"
        },
        "outputId": "c2603fcb-1583-4a46-b793-79106b3037cb"
      },
      "source": [
        "if torch.cuda.is_available():\n",
        "  Model.cuda()\n",
        "torch.cuda.is_available()"
      ],
      "execution_count": null,
      "outputs": [
        {
          "output_type": "execute_result",
          "data": {
            "text/plain": [
              "True"
            ]
          },
          "metadata": {
            "tags": []
          },
          "execution_count": 224
        }
      ]
    },
    {
      "cell_type": "code",
      "metadata": {
        "id": "Ck6wJsOMZIW4",
        "colab": {
          "base_uri": "https://localhost:8080/",
          "height": 185,
          "referenced_widgets": [
            "034119e4ef5a46f191cf263a2fc214b5",
            "828f106668094d329ee2462e47b1601e",
            "99dfc33ad0e04b6d8e2771045332d26e",
            "2a4738d11c0e428e957bd5cc9167217e",
            "cfd2a9fce6984ea5851fd4a112c25caf",
            "14dc5bf6ee724e7bab0dc6a85e043d5b",
            "b05632e678244bdbb87d9a43a8b69342",
            "2ed571afd723479a8f7296ee2cfd1b20"
          ]
        },
        "outputId": "69e22425-ca66-4b41-ea11-2095afee1a8a"
      },
      "source": [
        "epochs = 20\n",
        "last_val_loss = 100\n",
        "for i in tqdm(range(epochs),desc='Epochs'):\n",
        "  train_loss, val_loss = [], []\n",
        "  train_correct, val_correct = 0, 0\n",
        "  for images, labels in train_load:\n",
        "    images, labels = images.cuda(), labels.cuda() # converting the data into GPU format\n",
        "    optimizer.zero_grad() # clearing the Gradients of the model parameters\n",
        "    outputs = Model(images)\n",
        "    loss = criterion(outputs, labels)\n",
        "    train_loss.append(loss.item())\n",
        "    loss.backward()\n",
        "    optimizer.step()\n",
        "    predicted_labels = np.argmax(outputs.to(\"cpu\").detach().numpy(), axis=1)\n",
        "    train_correct += (predicted_labels == labels.to(\"cpu\").detach().numpy()).sum()\n",
        "  for images, labels in val_load:\n",
        "    images, labels = images.cuda(), labels.cuda() # converting the data into GPU format\n",
        "    outputs = Model(images)\n",
        "    loss = criterion(outputs, labels)\n",
        "    val_loss.append(loss.item())\n",
        "    predicted_labels = np.argmax(outputs.to(\"cpu\").detach().numpy(), axis=1)\n",
        "    val_correct += (predicted_labels == labels.to(\"cpu\").detach().numpy()).sum()\n",
        "  train_accuracy = 100 * train_correct / len(train_set)\n",
        "  val_accuracy = 100 * val_correct / len(val_set)\n",
        "  train_loss = sum(train_loss)/len(train_loss)\n",
        "  val_loss = sum(val_loss)/len(val_loss)\n",
        "  if last_val_loss < val_loss and i >= 5:break # early stopping and patience\n",
        "  last_val_loss = val_loss\n",
        "  print('Epoch =', i, 'Validation Loss =', val_loss, 'validation Accuracy =', val_accuracy, 'Train Loss =', train_loss, 'Train Accuracy =', train_accuracy)"
      ],
      "execution_count": null,
      "outputs": [
        {
          "output_type": "display_data",
          "data": {
            "application/vnd.jupyter.widget-view+json": {
              "model_id": "034119e4ef5a46f191cf263a2fc214b5",
              "version_minor": 0,
              "version_major": 2
            },
            "text/plain": [
              "HBox(children=(FloatProgress(value=0.0, description='Epochs', max=20.0, style=ProgressStyle(description_width=…"
            ]
          },
          "metadata": {
            "tags": []
          }
        },
        {
          "output_type": "stream",
          "text": [
            "Epoch = 0 Validation Loss = 1.025336517649851 validation Accuracy = 67.25 Train Loss = 1.3140972292900086 Train Accuracy = 56.2325\n",
            "Epoch = 1 Validation Loss = 0.8717875351571733 validation Accuracy = 72.02 Train Loss = 0.8946366575241089 Train Accuracy = 71.96\n",
            "Epoch = 2 Validation Loss = 0.7237072120046919 validation Accuracy = 77.04 Train Loss = 0.7388201441287995 Train Accuracy = 76.705\n",
            "Epoch = 3 Validation Loss = 0.6602797939139566 validation Accuracy = 78.57 Train Loss = 0.6399549149036408 Train Accuracy = 79.9975\n",
            "Epoch = 4 Validation Loss = 0.6162099823070939 validation Accuracy = 80.45 Train Loss = 0.5692288183212281 Train Accuracy = 82.07\n",
            "Epoch = 5 Validation Loss = 0.5846744022171968 validation Accuracy = 81.55 Train Loss = 0.5180821497917175 Train Accuracy = 83.74\n",
            "Epoch = 6 Validation Loss = 0.5355778036603502 validation Accuracy = 82.99 Train Loss = 0.4744891436100006 Train Accuracy = 85.125\n",
            "Epoch = 7 Validation Loss = 0.5125447902709815 validation Accuracy = 83.14 Train Loss = 0.4375990368127823 Train Accuracy = 86.1675\n"
          ],
          "name": "stdout"
        }
      ]
    },
    {
      "cell_type": "code",
      "metadata": {
        "id": "YhtZrqdHGwV0",
        "colab": {
          "base_uri": "https://localhost:8080/"
        },
        "outputId": "235a74a8-b57b-4cbe-fe59-157a389ac206"
      },
      "source": [
        "correct=0\n",
        "total_data=0\n",
        "Model.eval()\n",
        "for images, labels in test_load:\n",
        "  images, labels = images.cuda(), labels.cuda()\n",
        "  outputs = Model(images)\n",
        "  predicted_labels = np.argmax(outputs.to(\"cpu\").detach().numpy(), axis=1)\n",
        "  correct += (predicted_labels == labels.to(\"cpu\").detach().numpy()).sum()\n",
        "accuracy = 100 * correct / len(test_set)\n",
        "print(\"Test Accuracy =\", accuracy)"
      ],
      "execution_count": null,
      "outputs": [
        {
          "output_type": "stream",
          "text": [
            "Test Accuracy = 85.16\n"
          ],
          "name": "stdout"
        }
      ]
    },
    {
      "cell_type": "code",
      "metadata": {
        "id": "UH5TwSsEO82N"
      },
      "source": [
        ""
      ],
      "execution_count": null,
      "outputs": []
    }
  ]
}